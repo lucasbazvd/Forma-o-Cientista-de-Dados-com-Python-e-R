{
 "cells": [
  {
   "cell_type": "code",
   "execution_count": null,
   "metadata": {},
   "outputs": [],
   "source": [
    "import pandas as pd\n",
    "import seaborn as srn\n",
    "import matplotlib.pyplot as plt\n"
   ]
  },
  {
   "cell_type": "code",
   "execution_count": null,
   "id": "db4e3fd6",
   "metadata": {},
   "outputs": [],
   "source": [
    "dataset = pd.read_csv(\"dados.csv\", sep = \";\")\n",
    "dataset.shape\n",
    "dataset.head()"
   ]
  },
  {
   "cell_type": "code",
   "execution_count": null,
   "id": "fa815a6c",
   "metadata": {},
   "outputs": [],
   "source": [
    "#Verificar se há dados nulos\n",
    "dataset.isnull().sum()"
   ]
  },
  {
   "cell_type": "code",
   "execution_count": null,
   "id": "229b1877",
   "metadata": {},
   "outputs": [],
   "source": [
    "#agrupado = dataset.groupby(['MUNICIPIO']).size()\n",
    "#agrupado\n",
    "\n",
    "dataset['PIB'].describe()\n"
   ]
  },
  {
   "cell_type": "code",
   "execution_count": null,
   "id": "1a718ea4",
   "metadata": {},
   "outputs": [],
   "source": [
    "dataset_PIB = dataset.loc[:, ['MUNICIPIO','PIB']]\n",
    "dataset_PIB_Top10 = dataset_PIB.sort_values('PIB').head(10)\n",
    "\n",
    "plt.figure()\n",
    "plt.subplot(2,1,1)\n",
    "srn.boxplot(dataset_PIB['PIB']).set_title('Distribuição do PIB Gaucho')\n",
    "plt.subplot(2,1,2)\n",
    "srn.histplot(dataset_PIB['PIB']).set_title('Distribuição do PIB Gaucho')\n",
    "plt.tight_layout()\n",
    "dataset_PIB_Top10.plot.bar(x='MUNICIPIO',y='PIB',color = 'blue')\n"
   ]
  },
  {
   "cell_type": "code",
   "execution_count": null,
   "id": "c92e5fd3",
   "metadata": {},
   "outputs": [],
   "source": [
    "dataset['VALOREMPENHO'].describe()"
   ]
  },
  {
   "cell_type": "code",
   "execution_count": null,
   "id": "337c8298",
   "metadata": {},
   "outputs": [],
   "source": [
    "dataset_EMPENHO = dataset.loc[:,['MUNICIPIO','VALOREMPENHO']]\n",
    "dataset_EMPENHO_Top10 = dataset_EMPENHO.sort_values('VALOREMPENHO').head(10)\n",
    "\n",
    "plt.figure()\n",
    "plt.subplot(2,1,1)\n",
    "srn.boxplot(dataset_EMPENHO['VALOREMPENHO']).set_title('Distribuição do Empenho Gaucho')\n",
    "plt.subplot(2,1,2)\n",
    "srn.histplot(dataset_EMPENHO['VALOREMPENHO']).set_title('Distribuição do Empenho Gaucho')\n",
    "plt.tight_layout()\n",
    "dataset_EMPENHO_Top10.plot.bar(x='MUNICIPIO',y='VALOREMPENHO',color = 'blue')"
   ]
  }
 ],
 "metadata": {
  "interpreter": {
   "hash": "03047921f47cc7666394e980fe3e091028679457771c75f2dd56307b10ba8c5d"
  },
  "kernelspec": {
   "display_name": "Python 3.10.2 64-bit",
   "language": "python",
   "name": "python3"
  },
  "language_info": {
   "codemirror_mode": {
    "name": "ipython",
    "version": 3
   },
   "file_extension": ".py",
   "mimetype": "text/x-python",
   "name": "python",
   "nbconvert_exporter": "python",
   "pygments_lexer": "ipython3",
   "version": "3.10.2"
  }
 },
 "nbformat": 4,
 "nbformat_minor": 5
}
